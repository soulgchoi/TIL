{
 "cells": [
  {
   "cell_type": "code",
   "execution_count": 1,
   "metadata": {},
   "outputs": [],
   "source": [
    "from real_data.models import HotIssue"
   ]
  },
  {
   "cell_type": "code",
   "execution_count": 2,
   "metadata": {},
   "outputs": [],
   "source": [
    "import bs4\n",
    "import requests"
   ]
  },
  {
   "cell_type": "code",
   "execution_count": 5,
   "metadata": {
    "scrolled": true
   },
   "outputs": [
    {
     "name": "stdout",
     "output_type": "stream",
     "text": [
      "2019.08.07. (수) 15:24 1 힘내자 링티\n"
     ]
    }
   ],
   "source": [
    "url = 'https://datalab.naver.com/keyword/realtimeList.naver'\n",
    "headers = {'user-agent': '0:)'}\n",
    "response = requests.get(url, headers=headers).text\n",
    "soup = bs4.BeautifulSoup(response, 'html.parser')\n",
    "date_selector = '#content > div > div.section_serch_area > div > div.date_indo > a.date_box._date_trigger > span.date_txt._title_ymd'\n",
    "time_selector = '#content > div > div.section_serch_area > div > div.time_indo > a.time_box._time_trigger > span.time_txt._title_hms'\n",
    "rank_selector = '#content > div > div.keyword_carousel > div > div > div:nth-child(1) > div > div > ul > li:nth-child(1) > a > em'\n",
    "keyword_selector ='#content > div > div.keyword_carousel > div > div > div:nth-child(1) > div > div > ul > li:nth-child(1) > a > span'\n",
    "\n",
    "date = soup.select_one(date_selector).text\n",
    "time = soup.select_one(time_selector).text\n",
    "rank = soup.select_one(rank_selector).text\n",
    "keyword = soup.select_one(keyword_selector).text\n",
    "\n",
    "print(date, time, rank, keyword)"
   ]
  },
  {
   "cell_type": "code",
   "execution_count": 6,
   "metadata": {},
   "outputs": [],
   "source": [
    "h = HotIssue()\n",
    "h.date = date\n",
    "h.time = time\n",
    "h.rank = rank\n",
    "h.keyword = keyword\n",
    "h.save()"
   ]
  },
  {
   "cell_type": "code",
   "execution_count": 3,
   "metadata": {},
   "outputs": [],
   "source": [
    "url = 'https://datalab.naver.com/keyword/realtimeList.naver'\n",
    "headers = {'user-agent': '0:)'}\n",
    "response = requests.get(url, headers=headers).text\n",
    "soup = bs4.BeautifulSoup(response, 'html.parser')"
   ]
  },
  {
   "cell_type": "code",
   "execution_count": null,
   "metadata": {},
   "outputs": [],
   "source": [
    "date_selector = '#content > div > div.section_serch_area > div > div.date_indo > a.date_box._date_trigger > span.date_txt._title_ymd'\n",
    "time_selector = '#content > div > div.section_serch_area > div > div.time_indo > a.time_box._time_trigger > span.time_txt._title_hms'\n",
    "rank_selector = '#content > div > div.keyword_carousel > div > div > div:nth-child(1) > div > div > ul > li:nth-child(1) > a > em'\n",
    "keyword_selector ='#content > div > div.keyword_carousel > div > div > div:nth-child(1) > div > div > ul > li:nth-child(1) > a > span'\n",
    "\n",
    "date = soup.select_one(date_selector).text\n",
    "time = soup.select_one(time_selector).text\n",
    "rank = soup.select_one(rank_selector).text\n",
    "keyword = soup.select_one(keyword_selector).text"
   ]
  },
  {
   "cell_type": "code",
   "execution_count": null,
   "metadata": {},
   "outputs": [],
   "source": [
    "def hot_issue(n):\n",
    "    url = 'https://datalab.naver.com/keyword/realtimeList.naver'\n",
    "    headers = {'user-agent': '0:)'}\n",
    "    response = requests.get(url, headers=headers).text\n",
    "    soup = bs4.BeautifulSoup(response, 'html.parser')\n",
    "    date_selector = '#content > div > div.section_serch_area > div > div.date_indo > a.date_box._date_trigger > span.date_txt._title_ymd'\n",
    "    time_selector = '#content > div > div.section_serch_area > div > div.time_indo > a.time_box._time_trigger > span.time_txt._title_hms'\n",
    "    rank_selector = f'#content > div > div.keyword_carousel > div > div > div:nth-child(1) > div > div > ul > li:nth-child({n}) > a > em'\n",
    "    keyword_selector = f'#content > div > div.keyword_carousel > div > div > div:nth-child(1) > div > div > ul > li:nth-child({n}) > a > span'\n",
    "\n",
    "    date = soup.select_one(date_selector).text\n",
    "    time = soup.select_one(time_selector).text\n",
    "    rank = soup.select_one(rank_selector).text\n",
    "    keyword = soup.select_one(keyword_selector).text\n",
    "    \n",
    "    return {'date': date, 'time': time, 'rank': rank, 'keyword': keyword}"
   ]
  },
  {
   "cell_type": "code",
   "execution_count": 9,
   "metadata": {},
   "outputs": [],
   "source": [
    "for n in range(1, 21):\n",
    "    HotIssue.objects.create(        \n",
    "        date = hot_issue(n).get('date'),\n",
    "        time = hot_issue(n).get('time'),\n",
    "        rank = hot_issue(n).get('rank'),\n",
    "        keyword = hot_issue(n).get('keyword'),\n",
    "    )\n"
   ]
  }
 ],
 "metadata": {
  "kernelspec": {
   "display_name": "Django Shell-Plus",
   "language": "python",
   "name": "django_extensions"
  },
  "language_info": {
   "codemirror_mode": {
    "name": "ipython",
    "version": 3
   },
   "file_extension": ".py",
   "mimetype": "text/x-python",
   "name": "python",
   "nbconvert_exporter": "python",
   "pygments_lexer": "ipython3",
   "version": "3.7.3"
  }
 },
 "nbformat": 4,
 "nbformat_minor": 2
}
