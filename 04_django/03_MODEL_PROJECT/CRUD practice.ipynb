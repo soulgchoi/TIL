{
 "cells": [
  {
   "cell_type": "code",
   "execution_count": 2,
   "metadata": {},
   "outputs": [],
   "source": [
    "from students.models import Student"
   ]
  },
  {
   "cell_type": "markdown",
   "metadata": {},
   "source": [
    "Student\n",
    "* `name = models.CharField(max_length=10)`\n",
    "* `email = models.CharField(max_length=50)`\n",
    "* `github_id = models.CharField(max_length=50)`\n",
    "* `age = models.IntegerField()`"
   ]
  },
  {
   "cell_type": "code",
   "execution_count": 4,
   "metadata": {},
   "outputs": [],
   "source": [
    "# Create\n",
    "\n",
    "student = Student()\n",
    "student.name = '문다혜'\n",
    "student.email = 'dahea0512@gmail.com'\n",
    "student.github_id = 'daheamoon'\n",
    "student.age = 26\n",
    "student.save()"
   ]
  },
  {
   "cell_type": "code",
   "execution_count": 5,
   "metadata": {},
   "outputs": [],
   "source": [
    "student = Student(name='박준영', email='pakkyst@gmail.com', github_id='pakkyst', age=29)\n",
    "student.save()\n",
    "# 세이브는 따로 해야함"
   ]
  },
  {
   "cell_type": "code",
   "execution_count": 6,
   "metadata": {},
   "outputs": [],
   "source": [
    "student = Student.objects.create(name='이경환', email='khrock1@gmail.com', github_id='kyunghwanleethebest', age=27)\n",
    "# create 는 save 를 내포한 method이기 때문에 실행하기만 해도 저장됨"
   ]
  },
  {
   "cell_type": "code",
   "execution_count": null,
   "metadata": {},
   "outputs": [],
   "source": [
    "# Read(Retrieve)\n",
    "# 데이터 어떻게 가져올까?\n",
    "# id 는 절대 중복되지 않기 때문에 id 로 가져오는게 가장 확실하다"
   ]
  },
  {
   "cell_type": "code",
   "execution_count": 5,
   "metadata": {},
   "outputs": [
    {
     "name": "stdout",
     "output_type": "stream",
     "text": [
      "최솔지\n",
      "박준영\n"
     ]
    }
   ],
   "source": [
    "# id 로 조회하기\n",
    "s1 = Student.objects.get(id=1)\n",
    "s2 = Student.objects.get(id=4)\n",
    "print(s1.name)\n",
    "print(s2.name)"
   ]
  },
  {
   "cell_type": "code",
   "execution_count": 9,
   "metadata": {},
   "outputs": [
    {
     "name": "stdout",
     "output_type": "stream",
     "text": [
      "dahea0512@gmail.com\n"
     ]
    }
   ],
   "source": [
    "# id 로 조회하기\n",
    "# s1 = Student.objects.get(id=2)\n",
    "# s2 = Student.objects.get(id=6)\n",
    "s3 = Student.objects.get(name='문다혜')\n",
    "print(s3.email)"
   ]
  },
  {
   "cell_type": "code",
   "execution_count": null,
   "metadata": {},
   "outputs": [],
   "source": [
    "# Update (하나를 잡아서 특정 값을 수정하고 저장한다.)"
   ]
  },
  {
   "cell_type": "code",
   "execution_count": 14,
   "metadata": {},
   "outputs": [],
   "source": [
    "# 하나를 잡아서\n",
    "s1 = Student.objects.get(id=1) # 딕셔너리의 get 과는 상관없음\n",
    "# 특정값을 수정하고\n",
    "s1.age = 27\n",
    "s1.save()"
   ]
  },
  {
   "cell_type": "code",
   "execution_count": null,
   "metadata": {},
   "outputs": [],
   "source": [
    "# Delete (Destroy) 하나를 잡아서 삭제한다."
   ]
  },
  {
   "cell_type": "code",
   "execution_count": 15,
   "metadata": {},
   "outputs": [
    {
     "data": {
      "text/plain": [
       "(1, {'students.Student': 1})"
      ]
     },
     "execution_count": 15,
     "metadata": {},
     "output_type": "execute_result"
    }
   ],
   "source": [
    "s5 = Student.objects.get(id=5)\n",
    "# 삭제한다.\n",
    "s5.delete()"
   ]
  },
  {
   "cell_type": "code",
   "execution_count": null,
   "metadata": {},
   "outputs": [],
   "source": [
    "# id=5 삭제하고 다음 추가하면, 2,3,4,6 순서로 아이디 매겨짐"
   ]
  },
  {
   "cell_type": "code",
   "execution_count": 2,
   "metadata": {
    "scrolled": true
   },
   "outputs": [],
   "source": [
    "from students.models import Menu"
   ]
  },
  {
   "cell_type": "code",
   "execution_count": 3,
   "metadata": {
    "scrolled": true
   },
   "outputs": [],
   "source": [
    "menu = Menu.objects.create(name='신전떡볶이', price=3500, category='분식')"
   ]
  },
  {
   "cell_type": "code",
   "execution_count": 3,
   "metadata": {
    "scrolled": true
   },
   "outputs": [],
   "source": [
    "menu = Menu.objects.create(name='', price=3500, category='분식')"
   ]
  },
  {
   "cell_type": "code",
   "execution_count": 11,
   "metadata": {
    "scrolled": true
   },
   "outputs": [],
   "source": [
    "m = Menu()\n",
    "m.name = '타워버거'\n",
    "m.price = '7000'  # 알아서 float로 들어감\n",
    "m.category = '패스트푸드'\n",
    "m.save()"
   ]
  },
  {
   "cell_type": "code",
   "execution_count": 12,
   "metadata": {},
   "outputs": [
    {
     "name": "stdout",
     "output_type": "stream",
     "text": [
      "타워버거 7000.0 패스트푸드\n"
     ]
    }
   ],
   "source": [
    "m= Menu.objects.get(id=2)\n",
    "print(m.name, m.price, m.category)"
   ]
  },
  {
   "cell_type": "code",
   "execution_count": 13,
   "metadata": {},
   "outputs": [],
   "source": [
    "m.price = 7200\n",
    "m.save()"
   ]
  },
  {
   "cell_type": "code",
   "execution_count": 14,
   "metadata": {},
   "outputs": [
    {
     "data": {
      "text/plain": [
       "(1, {'students.Menu': 1})"
      ]
     },
     "execution_count": 14,
     "metadata": {},
     "output_type": "execute_result"
    }
   ],
   "source": [
    "m.delete()"
   ]
  }
 ],
 "metadata": {
  "kernelspec": {
   "display_name": "Django Shell-Plus",
   "language": "python",
   "name": "django_extensions"
  },
  "language_info": {
   "codemirror_mode": {
    "name": "ipython",
    "version": 3
   },
   "file_extension": ".py",
   "mimetype": "text/x-python",
   "name": "python",
   "nbconvert_exporter": "python",
   "pygments_lexer": "ipython3",
   "version": "3.7.3"
  }
 },
 "nbformat": 4,
 "nbformat_minor": 2
}
